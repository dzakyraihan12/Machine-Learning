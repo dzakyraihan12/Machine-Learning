{
  "nbformat": 4,
  "nbformat_minor": 0,
  "metadata": {
    "colab": {
      "provenance": []
    },
    "kernelspec": {
      "name": "python3",
      "display_name": "Python 3"
    },
    "language_info": {
      "name": "python"
    }
  },
  "cells": [
    {
      "cell_type": "code",
      "execution_count": 1,
      "metadata": {
        "colab": {
          "base_uri": "https://localhost:8080/"
        },
        "id": "hDWmMgxpRrvi",
        "outputId": "b8773509-ff3c-4b4b-fd42-8f8fa0580f24"
      },
      "outputs": [
        {
          "output_type": "stream",
          "name": "stdout",
          "text": [
            "Looking in indexes: https://pypi.org/simple, https://us-python.pkg.dev/colab-wheels/public/simple/\n",
            "Requirement already satisfied: pandas in /usr/local/lib/python3.8/dist-packages (1.3.5)\n",
            "Requirement already satisfied: pytz>=2017.3 in /usr/local/lib/python3.8/dist-packages (from pandas) (2022.6)\n",
            "Requirement already satisfied: python-dateutil>=2.7.3 in /usr/local/lib/python3.8/dist-packages (from pandas) (2.8.2)\n",
            "Requirement already satisfied: numpy>=1.17.3 in /usr/local/lib/python3.8/dist-packages (from pandas) (1.21.6)\n",
            "Requirement already satisfied: six>=1.5 in /usr/local/lib/python3.8/dist-packages (from python-dateutil>=2.7.3->pandas) (1.15.0)\n",
            "Looking in indexes: https://pypi.org/simple, https://us-python.pkg.dev/colab-wheels/public/simple/\n",
            "Requirement already satisfied: scikit-learn in /usr/local/lib/python3.8/dist-packages (1.0.2)\n",
            "Requirement already satisfied: scipy>=1.1.0 in /usr/local/lib/python3.8/dist-packages (from scikit-learn) (1.7.3)\n",
            "Requirement already satisfied: threadpoolctl>=2.0.0 in /usr/local/lib/python3.8/dist-packages (from scikit-learn) (3.1.0)\n",
            "Requirement already satisfied: joblib>=0.11 in /usr/local/lib/python3.8/dist-packages (from scikit-learn) (1.2.0)\n",
            "Requirement already satisfied: numpy>=1.14.6 in /usr/local/lib/python3.8/dist-packages (from scikit-learn) (1.21.6)\n"
          ]
        }
      ],
      "source": [
        "!pip install pandas\n",
        "!pip install scikit-learn"
      ]
    },
    {
      "cell_type": "markdown",
      "source": [
        "## Isi nama dan NIM seluruh anggota kelompok di sini\n",
        "#   Nama    NIM\n",
        "#   Dzaky Raihan Ahmad     1301204316\n",
        "#   Auzan Fadhlan     1301204020\n",
        "#   Zahran Raihansyah Likumahua 1301204049"
      ],
      "metadata": {
        "id": "pKUoyNnQU3A-"
      }
    },
    {
      "cell_type": "code",
      "source": [
        "import numpy as np\n",
        "import pandas as pd\n",
        "from sklearn.model_selection import train_test_split\n",
        "from sklearn import tree\n"
      ],
      "metadata": {
        "id": "qgYp9nglVEpd"
      },
      "execution_count": 2,
      "outputs": []
    },
    {
      "cell_type": "markdown",
      "source": [
        "# Load Dataset\n",
        "Inisialisasi variable, masukan NIM di sini untuk random state.\n",
        "\n",
        "Gunakan NIM salah satu anggota kelompok.\n",
        "\n"
      ],
      "metadata": {
        "id": "m4j-kG2GVJO8"
      }
    },
    {
      "cell_type": "code",
      "source": [
        "filepath = \"./seeds_dataset.csv\"\n",
        "\n",
        "# Isi nim anda di sini\n",
        "nim = 1301204316"
      ],
      "metadata": {
        "id": "Y_aAXip9VKKc"
      },
      "execution_count": 3,
      "outputs": []
    },
    {
      "cell_type": "markdown",
      "source": [
        "Load dataset, cek konten data\n",
        "\n",
        "Target kelas: **Category** "
      ],
      "metadata": {
        "id": "5uoUdu9WVOX9"
      }
    },
    {
      "cell_type": "code",
      "source": [
        "df = pd.read_csv(filepath, sep=\"\\t\")\n",
        "df.sample(10, random_state=nim)"
      ],
      "metadata": {
        "colab": {
          "base_uri": "https://localhost:8080/",
          "height": 363
        },
        "id": "nFvLSBSeVPVM",
        "outputId": "562dd737-8fd9-45c1-ae53-381dba4ce34f"
      },
      "execution_count": 5,
      "outputs": [
        {
          "output_type": "execute_result",
          "data": {
            "text/plain": [
              "      Area  Perimeter  Compactness  Kernel_len  Kernel_width  Assymetry  \\\n",
              "23   12.08      13.23       0.8664       5.099         2.936      1.415   \n",
              "179  12.21      13.47       0.8453       5.357         2.893      1.661   \n",
              "48   14.79      14.52       0.8819       5.545         3.291      2.704   \n",
              "39   14.28      14.17       0.8944       5.397         3.298      6.685   \n",
              "185  11.56      13.31       0.8198       5.363         2.683      4.062   \n",
              "72   17.26      15.73       0.8763       5.978         3.594      4.539   \n",
              "160  12.54      13.67       0.8425       5.451         2.879      3.082   \n",
              "115  19.06      16.45       0.8854       6.416         3.719      2.248   \n",
              "108  19.94      16.92       0.8752       6.675         3.763      3.252   \n",
              "165  12.10      13.15       0.8793       5.105         2.941      2.201   \n",
              "\n",
              "     Groove_len  Category  \n",
              "23        4.961         1  \n",
              "179       5.178         3  \n",
              "48        5.111         1  \n",
              "39        5.001         1  \n",
              "185       5.182         3  \n",
              "72        5.791         2  \n",
              "160       5.491         3  \n",
              "115       6.163         2  \n",
              "108       6.550         2  \n",
              "165       5.056         3  "
            ],
            "text/html": [
              "\n",
              "  <div id=\"df-b56a1f96-50af-4507-9ab2-a3f80b186f48\">\n",
              "    <div class=\"colab-df-container\">\n",
              "      <div>\n",
              "<style scoped>\n",
              "    .dataframe tbody tr th:only-of-type {\n",
              "        vertical-align: middle;\n",
              "    }\n",
              "\n",
              "    .dataframe tbody tr th {\n",
              "        vertical-align: top;\n",
              "    }\n",
              "\n",
              "    .dataframe thead th {\n",
              "        text-align: right;\n",
              "    }\n",
              "</style>\n",
              "<table border=\"1\" class=\"dataframe\">\n",
              "  <thead>\n",
              "    <tr style=\"text-align: right;\">\n",
              "      <th></th>\n",
              "      <th>Area</th>\n",
              "      <th>Perimeter</th>\n",
              "      <th>Compactness</th>\n",
              "      <th>Kernel_len</th>\n",
              "      <th>Kernel_width</th>\n",
              "      <th>Assymetry</th>\n",
              "      <th>Groove_len</th>\n",
              "      <th>Category</th>\n",
              "    </tr>\n",
              "  </thead>\n",
              "  <tbody>\n",
              "    <tr>\n",
              "      <th>23</th>\n",
              "      <td>12.08</td>\n",
              "      <td>13.23</td>\n",
              "      <td>0.8664</td>\n",
              "      <td>5.099</td>\n",
              "      <td>2.936</td>\n",
              "      <td>1.415</td>\n",
              "      <td>4.961</td>\n",
              "      <td>1</td>\n",
              "    </tr>\n",
              "    <tr>\n",
              "      <th>179</th>\n",
              "      <td>12.21</td>\n",
              "      <td>13.47</td>\n",
              "      <td>0.8453</td>\n",
              "      <td>5.357</td>\n",
              "      <td>2.893</td>\n",
              "      <td>1.661</td>\n",
              "      <td>5.178</td>\n",
              "      <td>3</td>\n",
              "    </tr>\n",
              "    <tr>\n",
              "      <th>48</th>\n",
              "      <td>14.79</td>\n",
              "      <td>14.52</td>\n",
              "      <td>0.8819</td>\n",
              "      <td>5.545</td>\n",
              "      <td>3.291</td>\n",
              "      <td>2.704</td>\n",
              "      <td>5.111</td>\n",
              "      <td>1</td>\n",
              "    </tr>\n",
              "    <tr>\n",
              "      <th>39</th>\n",
              "      <td>14.28</td>\n",
              "      <td>14.17</td>\n",
              "      <td>0.8944</td>\n",
              "      <td>5.397</td>\n",
              "      <td>3.298</td>\n",
              "      <td>6.685</td>\n",
              "      <td>5.001</td>\n",
              "      <td>1</td>\n",
              "    </tr>\n",
              "    <tr>\n",
              "      <th>185</th>\n",
              "      <td>11.56</td>\n",
              "      <td>13.31</td>\n",
              "      <td>0.8198</td>\n",
              "      <td>5.363</td>\n",
              "      <td>2.683</td>\n",
              "      <td>4.062</td>\n",
              "      <td>5.182</td>\n",
              "      <td>3</td>\n",
              "    </tr>\n",
              "    <tr>\n",
              "      <th>72</th>\n",
              "      <td>17.26</td>\n",
              "      <td>15.73</td>\n",
              "      <td>0.8763</td>\n",
              "      <td>5.978</td>\n",
              "      <td>3.594</td>\n",
              "      <td>4.539</td>\n",
              "      <td>5.791</td>\n",
              "      <td>2</td>\n",
              "    </tr>\n",
              "    <tr>\n",
              "      <th>160</th>\n",
              "      <td>12.54</td>\n",
              "      <td>13.67</td>\n",
              "      <td>0.8425</td>\n",
              "      <td>5.451</td>\n",
              "      <td>2.879</td>\n",
              "      <td>3.082</td>\n",
              "      <td>5.491</td>\n",
              "      <td>3</td>\n",
              "    </tr>\n",
              "    <tr>\n",
              "      <th>115</th>\n",
              "      <td>19.06</td>\n",
              "      <td>16.45</td>\n",
              "      <td>0.8854</td>\n",
              "      <td>6.416</td>\n",
              "      <td>3.719</td>\n",
              "      <td>2.248</td>\n",
              "      <td>6.163</td>\n",
              "      <td>2</td>\n",
              "    </tr>\n",
              "    <tr>\n",
              "      <th>108</th>\n",
              "      <td>19.94</td>\n",
              "      <td>16.92</td>\n",
              "      <td>0.8752</td>\n",
              "      <td>6.675</td>\n",
              "      <td>3.763</td>\n",
              "      <td>3.252</td>\n",
              "      <td>6.550</td>\n",
              "      <td>2</td>\n",
              "    </tr>\n",
              "    <tr>\n",
              "      <th>165</th>\n",
              "      <td>12.10</td>\n",
              "      <td>13.15</td>\n",
              "      <td>0.8793</td>\n",
              "      <td>5.105</td>\n",
              "      <td>2.941</td>\n",
              "      <td>2.201</td>\n",
              "      <td>5.056</td>\n",
              "      <td>3</td>\n",
              "    </tr>\n",
              "  </tbody>\n",
              "</table>\n",
              "</div>\n",
              "      <button class=\"colab-df-convert\" onclick=\"convertToInteractive('df-b56a1f96-50af-4507-9ab2-a3f80b186f48')\"\n",
              "              title=\"Convert this dataframe to an interactive table.\"\n",
              "              style=\"display:none;\">\n",
              "        \n",
              "  <svg xmlns=\"http://www.w3.org/2000/svg\" height=\"24px\"viewBox=\"0 0 24 24\"\n",
              "       width=\"24px\">\n",
              "    <path d=\"M0 0h24v24H0V0z\" fill=\"none\"/>\n",
              "    <path d=\"M18.56 5.44l.94 2.06.94-2.06 2.06-.94-2.06-.94-.94-2.06-.94 2.06-2.06.94zm-11 1L8.5 8.5l.94-2.06 2.06-.94-2.06-.94L8.5 2.5l-.94 2.06-2.06.94zm10 10l.94 2.06.94-2.06 2.06-.94-2.06-.94-.94-2.06-.94 2.06-2.06.94z\"/><path d=\"M17.41 7.96l-1.37-1.37c-.4-.4-.92-.59-1.43-.59-.52 0-1.04.2-1.43.59L10.3 9.45l-7.72 7.72c-.78.78-.78 2.05 0 2.83L4 21.41c.39.39.9.59 1.41.59.51 0 1.02-.2 1.41-.59l7.78-7.78 2.81-2.81c.8-.78.8-2.07 0-2.86zM5.41 20L4 18.59l7.72-7.72 1.47 1.35L5.41 20z\"/>\n",
              "  </svg>\n",
              "      </button>\n",
              "      \n",
              "  <style>\n",
              "    .colab-df-container {\n",
              "      display:flex;\n",
              "      flex-wrap:wrap;\n",
              "      gap: 12px;\n",
              "    }\n",
              "\n",
              "    .colab-df-convert {\n",
              "      background-color: #E8F0FE;\n",
              "      border: none;\n",
              "      border-radius: 50%;\n",
              "      cursor: pointer;\n",
              "      display: none;\n",
              "      fill: #1967D2;\n",
              "      height: 32px;\n",
              "      padding: 0 0 0 0;\n",
              "      width: 32px;\n",
              "    }\n",
              "\n",
              "    .colab-df-convert:hover {\n",
              "      background-color: #E2EBFA;\n",
              "      box-shadow: 0px 1px 2px rgba(60, 64, 67, 0.3), 0px 1px 3px 1px rgba(60, 64, 67, 0.15);\n",
              "      fill: #174EA6;\n",
              "    }\n",
              "\n",
              "    [theme=dark] .colab-df-convert {\n",
              "      background-color: #3B4455;\n",
              "      fill: #D2E3FC;\n",
              "    }\n",
              "\n",
              "    [theme=dark] .colab-df-convert:hover {\n",
              "      background-color: #434B5C;\n",
              "      box-shadow: 0px 1px 3px 1px rgba(0, 0, 0, 0.15);\n",
              "      filter: drop-shadow(0px 1px 2px rgba(0, 0, 0, 0.3));\n",
              "      fill: #FFFFFF;\n",
              "    }\n",
              "  </style>\n",
              "\n",
              "      <script>\n",
              "        const buttonEl =\n",
              "          document.querySelector('#df-b56a1f96-50af-4507-9ab2-a3f80b186f48 button.colab-df-convert');\n",
              "        buttonEl.style.display =\n",
              "          google.colab.kernel.accessAllowed ? 'block' : 'none';\n",
              "\n",
              "        async function convertToInteractive(key) {\n",
              "          const element = document.querySelector('#df-b56a1f96-50af-4507-9ab2-a3f80b186f48');\n",
              "          const dataTable =\n",
              "            await google.colab.kernel.invokeFunction('convertToInteractive',\n",
              "                                                     [key], {});\n",
              "          if (!dataTable) return;\n",
              "\n",
              "          const docLinkHtml = 'Like what you see? Visit the ' +\n",
              "            '<a target=\"_blank\" href=https://colab.research.google.com/notebooks/data_table.ipynb>data table notebook</a>'\n",
              "            + ' to learn more about interactive tables.';\n",
              "          element.innerHTML = '';\n",
              "          dataTable['output_type'] = 'display_data';\n",
              "          await google.colab.output.renderOutput(dataTable, element);\n",
              "          const docLink = document.createElement('div');\n",
              "          docLink.innerHTML = docLinkHtml;\n",
              "          element.appendChild(docLink);\n",
              "        }\n",
              "      </script>\n",
              "    </div>\n",
              "  </div>\n",
              "  "
            ]
          },
          "metadata": {},
          "execution_count": 5
        }
      ]
    },
    {
      "cell_type": "markdown",
      "source": [
        "Training/test split **60/40**"
      ],
      "metadata": {
        "id": "LFU-2EtRVRbu"
      }
    },
    {
      "cell_type": "code",
      "source": [
        "# X: semua kolom, Y: kolom terakhir (category)\n",
        "x = df.iloc[:, :-1]\n",
        "y = df.iloc[:, -1]\n",
        "x_train, x_test, y_train, y_test = train_test_split(x, y, train_size=0.6, random_state=nim)\n",
        "\n",
        "# We perform bootstrap on the train data\n",
        "# Keep test data for final accuracy testing\n",
        "len(x_train), len(x_test)"
      ],
      "metadata": {
        "colab": {
          "base_uri": "https://localhost:8080/"
        },
        "id": "EfpO28CMVSg-",
        "outputId": "cc24554d-acf3-44d0-aeb7-f6ab7c162fd3"
      },
      "execution_count": 6,
      "outputs": [
        {
          "output_type": "execute_result",
          "data": {
            "text/plain": [
              "(126, 84)"
            ]
          },
          "metadata": {},
          "execution_count": 6
        }
      ]
    },
    {
      "cell_type": "markdown",
      "source": [
        "# Random Forest\n",
        "Build a Random Forest, consisting of 20 Decision Tree classifer, with the following steps:\n",
        "\n",
        "1. Prepare Bootstrap data (choose randomly from the *training data*, use sampling with replacement)\n",
        "2. Choose 2-4 random features/atributes for each tree\n",
        "3. Build Decision Tree classifier using step (1) and (2)\n",
        "4. Calculate OOB score within the tree only\n",
        "\n",
        "**NOTE**\n",
        "This whole exercise has been simplified.\n",
        "- Tree can be created using a library, therefore you may not be able control the feature selection on node level\n",
        "- Random features are only selected in the beginning of each tree.\n",
        "- OOB score is only calculated within its own tree instead.\n",
        "- Typically Random Forest don't use train/test split and can be validated using OOB error. We simplify this to make it easier to test.\n",
        "- You are not allowed to use a Random Forest or Bagging library.\n"
      ],
      "metadata": {
        "id": "qKkKH1t-VT4U"
      }
    },
    {
      "cell_type": "code",
      "source": [
        "np.random.seed(nim)\n",
        "n_tree = 20\n",
        "\n",
        "forest = []\n",
        "bootstrap_columns = []\n",
        "for i in range(n_tree):\n",
        "    # 1. Bootstrapping\n",
        "    # select random rows\n",
        "    rows = np.random.choice(x_train.index, size=len(x_train), replace=True)\n",
        "    x_bootstrap = x_train.loc[rows]\n",
        "    y_bootstrap = y_train.loc[rows]\n",
        "\n",
        "    # Out of Bag data\n",
        "    non_selected_rows = np.setdiff1d(x_train.index, rows)\n",
        "    x_oob = x_train.loc[non_selected_rows]\n",
        "    y_oob = y_train.loc[non_selected_rows]\n",
        "\n",
        "    # 2. Select random features (make sure to keep track the selected columns)\n",
        "    # Check for any repeated combinations\n",
        "    feature_taken = np.random.randint(2, 4)\n",
        "    cols = np.random.choice(x_bootstrap.columns, size=feature_taken, replace=True)\n",
        "    bootstrap_columns.append(cols)\n",
        "\n",
        "    # filter based on the selected columns\n",
        "    x_bootstrap = x_bootstrap.loc[:, cols]\n",
        "\n",
        "    # 3. Build decision tree\n",
        "    # Let it grow, no pruning\n",
        "    tree_model = tree.DecisionTreeClassifier()\n",
        "    tree_model.fit(x_bootstrap, y_bootstrap)\n",
        "\n",
        "    # Add it to the forest\n",
        "    forest.append(tree_model)\n",
        "\n",
        "    # 4. Calculate oob score only within its own tree\n",
        "    oob_predict = tree_model.predict(x_oob.loc[:, cols])\n",
        "    oob_score   = tree_model.score(x_oob.loc[:, cols], y_oob)\n",
        "    print(f\"Tree {i}, {len(x_oob)} data, oob score: {oob_score}\")\n",
        "\n"
      ],
      "metadata": {
        "colab": {
          "base_uri": "https://localhost:8080/"
        },
        "id": "PN9qiUn9VWCt",
        "outputId": "d847061a-de30-430c-a3dd-605687835c23"
      },
      "execution_count": 7,
      "outputs": [
        {
          "output_type": "stream",
          "name": "stdout",
          "text": [
            "Tree 0, 44 data, oob score: 0.8409090909090909\n",
            "Tree 1, 47 data, oob score: 0.8936170212765957\n",
            "Tree 2, 45 data, oob score: 0.8\n",
            "Tree 3, 49 data, oob score: 0.8163265306122449\n",
            "Tree 4, 51 data, oob score: 0.7254901960784313\n",
            "Tree 5, 47 data, oob score: 0.8723404255319149\n",
            "Tree 6, 45 data, oob score: 0.8222222222222222\n",
            "Tree 7, 46 data, oob score: 0.782608695652174\n",
            "Tree 8, 43 data, oob score: 0.9302325581395349\n",
            "Tree 9, 41 data, oob score: 0.9512195121951219\n",
            "Tree 10, 44 data, oob score: 0.7727272727272727\n",
            "Tree 11, 55 data, oob score: 0.8181818181818182\n",
            "Tree 12, 48 data, oob score: 0.8333333333333334\n",
            "Tree 13, 48 data, oob score: 0.7916666666666666\n",
            "Tree 14, 45 data, oob score: 0.7555555555555555\n",
            "Tree 15, 44 data, oob score: 0.9090909090909091\n",
            "Tree 16, 42 data, oob score: 0.8095238095238095\n",
            "Tree 17, 49 data, oob score: 0.7142857142857143\n",
            "Tree 18, 46 data, oob score: 0.9347826086956522\n",
            "Tree 19, 43 data, oob score: 0.8604651162790697\n"
          ]
        }
      ]
    },
    {
      "cell_type": "markdown",
      "source": [
        "# Prediction and Voting\n",
        "Run prediction on x_test data for each tree\n",
        "\n",
        "Also calculate accuracy per tree here"
      ],
      "metadata": {
        "id": "q1srrNljVX-8"
      }
    },
    {
      "cell_type": "code",
      "source": [
        "all_preds = []\n",
        "for i, tree_model in enumerate(forest):\n",
        "    # Each tree has different column requirements\n",
        "    # Make sure you use the correct columns for each tree\n",
        "    x_test_filtered = x_test.loc[:, bootstrap_columns[i]]\n",
        "\n",
        "    predictions = tree_model.predict(x_test_filtered)\n",
        "\n",
        "    # Might as well calculate accuracy per tree here...\n",
        "\n",
        "    acc = tree_model.score(x_test_filtered, y_test)\n",
        "    print(acc)\n",
        "\n",
        "    # add it to all_preds for voting later\n",
        "    all_preds.append(predictions)\n",
        "\n",
        "all_preds = np.array(all_preds)"
      ],
      "metadata": {
        "colab": {
          "base_uri": "https://localhost:8080/"
        },
        "id": "zwz8ctvDVZd1",
        "outputId": "9b803375-2a97-4fd7-8680-a686fcd45e24"
      },
      "execution_count": 13,
      "outputs": [
        {
          "output_type": "stream",
          "name": "stdout",
          "text": [
            "0.7619047619047619\n",
            "0.8809523809523809\n",
            "0.7738095238095238\n",
            "0.7976190476190477\n",
            "0.8571428571428571\n",
            "0.9285714285714286\n",
            "0.8333333333333334\n",
            "0.8214285714285714\n",
            "0.8452380952380952\n",
            "0.9404761904761905\n",
            "0.8452380952380952\n",
            "0.7976190476190477\n",
            "0.8214285714285714\n",
            "0.7738095238095238\n",
            "0.7976190476190477\n",
            "0.8809523809523809\n",
            "0.8571428571428571\n",
            "0.7857142857142857\n",
            "0.8928571428571429\n",
            "0.8095238095238095\n"
          ]
        }
      ]
    },
    {
      "cell_type": "code",
      "source": [
        "for _ in bootstrap_columns:\n",
        "    print(*_, sep=\", \")"
      ],
      "metadata": {
        "colab": {
          "base_uri": "https://localhost:8080/"
        },
        "id": "YgubDfZdY6DT",
        "outputId": "ca4cd221-03b7-4605-d5b9-f5e16e753957"
      },
      "execution_count": 14,
      "outputs": [
        {
          "output_type": "stream",
          "name": "stdout",
          "text": [
            "Compactness, Compactness, Kernel_width\n",
            "Area, Groove_len\n",
            "Kernel_width, Area, Compactness\n",
            "Assymetry, Kernel_len\n",
            "Kernel_len, Kernel_len, Area\n",
            "Groove_len, Area, Kernel_width\n",
            "Kernel_width, Perimeter, Kernel_len\n",
            "Kernel_len, Perimeter\n",
            "Kernel_width, Area, Assymetry\n",
            "Groove_len, Area, Compactness\n",
            "Groove_len, Compactness\n",
            "Kernel_width, Kernel_width, Perimeter\n",
            "Kernel_len, Perimeter\n",
            "Kernel_width, Compactness\n",
            "Assymetry, Groove_len\n",
            "Kernel_len, Groove_len\n",
            "Groove_len, Kernel_len\n",
            "Perimeter, Kernel_len\n",
            "Groove_len, Kernel_width, Area\n",
            "Perimeter, Kernel_len\n"
          ]
        }
      ]
    },
    {
      "cell_type": "markdown",
      "source": [
        "### Perform voting on the predictions from the Random Forest"
      ],
      "metadata": {
        "id": "1K3HUjmbVbL1"
      }
    },
    {
      "cell_type": "code",
      "source": [
        "# Insert voting code here\n",
        "voted_predictions = np.array([np.bincount(pred).argmax() for pred in all_preds.T])\n",
        "print(voted_predictions)\n",
        "\n",
        "# Calculate accuracy of Test data on the Forest\n",
        "acc = np.sum(voted_predictions == y_test) / len(y_test) *100\n",
        "print(acc, \"%\")\n",
        "\n"
      ],
      "metadata": {
        "colab": {
          "base_uri": "https://localhost:8080/"
        },
        "id": "N2yPA2m5VbwE",
        "outputId": "2da286cd-be62-4bde-b1c0-8fbc5ec27afd"
      },
      "execution_count": 15,
      "outputs": [
        {
          "output_type": "stream",
          "name": "stdout",
          "text": [
            "[3 3 1 1 3 2 3 2 2 3 1 1 3 2 1 2 2 1 2 1 1 1 1 2 1 2 1 2 3 2 1 3 2 3 3 2 2\n",
            " 3 3 3 3 1 1 3 3 2 1 2 3 1 2 2 3 3 2 1 2 1 1 3 2 2 2 1 2 3 1 3 1 3 1 1 3 3\n",
            " 2 2 1 3 3 2 2 1 1 2]\n",
            "88.09523809523809 %\n"
          ]
        }
      ]
    },
    {
      "cell_type": "markdown",
      "source": [
        "After you're done with all this, please check the excel file and put the answers for every column there."
      ],
      "metadata": {
        "id": "yZk9wfziVddk"
      }
    }
  ]
}